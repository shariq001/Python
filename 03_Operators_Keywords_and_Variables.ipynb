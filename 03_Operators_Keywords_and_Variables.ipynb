{
  "nbformat": 4,
  "nbformat_minor": 0,
  "metadata": {
    "colab": {
      "provenance": [],
      "authorship_tag": "ABX9TyNyEnZKyEeUXV5h6sd6Dkj4",
      "include_colab_link": true
    },
    "kernelspec": {
      "name": "python3",
      "display_name": "Python 3"
    },
    "language_info": {
      "name": "python"
    }
  },
  "cells": [
    {
      "cell_type": "markdown",
      "metadata": {
        "id": "view-in-github",
        "colab_type": "text"
      },
      "source": [
        "<a href=\"https://colab.research.google.com/github/shariq001/Python/blob/main/03_Operators_Keywords_and_Variables.ipynb\" target=\"_parent\"><img src=\"https://colab.research.google.com/assets/colab-badge.svg\" alt=\"Open In Colab\"/></a>"
      ]
    },
    {
      "cell_type": "markdown",
      "source": [
        "# Operators in Python"
      ],
      "metadata": {
        "id": "hkAdIJLeKcfH"
      }
    },
    {
      "cell_type": "markdown",
      "source": [
        "#1. Arithmetic Operators"
      ],
      "metadata": {
        "id": "vj7t5sscKkzo"
      }
    },
    {
      "cell_type": "code",
      "execution_count": null,
      "metadata": {
        "colab": {
          "base_uri": "https://localhost:8080/"
        },
        "id": "KIHFYnFfKOZg",
        "outputId": "53075130-ee35-4c08-b8bf-f7d546717097"
      },
      "outputs": [
        {
          "output_type": "stream",
          "name": "stdout",
          "text": [
            "a:10 + b:5 = 15\n",
            "a:10 - b:5 = 5\n",
            "a:10 * b:5 = 50\n",
            "a:10 / b:5 = 2.0\n",
            "a:10 // c:3 = 3\n",
            "a:10 % c:3 = 1\n",
            "a:10 ** c:3 = 1000\n"
          ]
        }
      ],
      "source": [
        "a : int = 10\n",
        "b : int = 5\n",
        "c : int = 3\n",
        "\n",
        "#Addition\n",
        "print(f\"a:{a} + b:{b} = {a + b}\" )\n",
        "\n",
        "#Substraction\n",
        "print(f\"a:{a} - b:{b} = {a - b}\" )\n",
        "\n",
        "#Multiplication\n",
        "print(f\"a:{a} * b:{b} = {a * b}\" )\n",
        "\n",
        "#Division\n",
        "print(f\"a:{a} / b:{b} = {a / b}\" )\n",
        "\n",
        "#Floor (Removes Decimal Part)\n",
        "print(f\"a:{a} // c:{c} = {a // c}\" )\n",
        "\n",
        "#Modulus (Prints remainder)\n",
        "print(f\"a:{a} % c:{c} = {a % c}\" )\n",
        "\n",
        "#Exponentiation (Prints the value of a with c number of times)\n",
        "#If a = 10, and c = 3 so it will be 10 * 10 * 10\n",
        "print(f\"a:{a} ** c:{c} = {a ** c}\" )"
      ]
    },
    {
      "cell_type": "markdown",
      "source": [
        "#2. Comparision Operators"
      ],
      "metadata": {
        "id": "jdKKO1c3Nrm8"
      }
    },
    {
      "cell_type": "code",
      "source": [
        "x : int = 5\n",
        "y : int = 3\n",
        "\n",
        "#Equal to\n",
        "print(f\"{x} is equal to {y} = {x == y}\" )\n",
        "\n",
        "#Not Equal to\n",
        "print(f\"{x} is not equal to {y} = {x != y}\" )\n",
        "\n",
        "#Greater Than\n",
        "print(f\"{x} is Greater Than {y} = {x > y}\" )\n",
        "\n",
        "#Less Than\n",
        "print(f\"{x} is Less Than {y} = {x < y}\" )\n",
        "\n",
        "#Greater Than or Equal to\n",
        "print(f\"{x} is Greater Than or equal to {y} = {x >= y}\" )\n",
        "\n",
        "#Less Than or Equal to\n",
        "print(f\"{x} is Less Than or equal to {y} = {x <= y}\" )"
      ],
      "metadata": {
        "colab": {
          "base_uri": "https://localhost:8080/"
        },
        "id": "8JoMV_8sNx31",
        "outputId": "c611eeb2-2b29-412a-c8b3-148bc40bd900"
      },
      "execution_count": null,
      "outputs": [
        {
          "output_type": "stream",
          "name": "stdout",
          "text": [
            "5 is equal to 3 = False\n",
            "5 is not equal to 3 = True\n",
            "5 is Greater Than 3 = True\n",
            "5 is Less Than 3 = False\n",
            "5 is Greater Than or equal to 3 = True\n",
            "5 is Less Than or equal to 3 = False\n"
          ]
        }
      ]
    },
    {
      "cell_type": "markdown",
      "source": [
        "#3. Logical Operators"
      ],
      "metadata": {
        "id": "pREhLyGjOnQz"
      }
    },
    {
      "cell_type": "code",
      "source": [
        "x : bool = True\n",
        "y : bool = False\n",
        "\n",
        "#and\tReturns True if both conditions are\n",
        "print(x and y) #False Because one condition is False\n",
        "\n",
        "#or\tReturns True if at least one condition is True\n",
        "print(x or y) #True Because there is atleast one condition true\n",
        "\n",
        "#not\tReverses the condition (True → False, False → True)\n",
        "print(not x) #True Because it reverses the condition\n",
        "print(not y) #True Because it reverses the condition\n"
      ],
      "metadata": {
        "colab": {
          "base_uri": "https://localhost:8080/"
        },
        "id": "31hoScaJOrHi",
        "outputId": "38280b1a-7456-4e52-ec77-a5bbd9feb23f"
      },
      "execution_count": null,
      "outputs": [
        {
          "output_type": "stream",
          "name": "stdout",
          "text": [
            "False\n",
            "True\n",
            "False\n",
            "True\n"
          ]
        }
      ]
    },
    {
      "cell_type": "markdown",
      "source": [
        "#4. Assignment Operators"
      ],
      "metadata": {
        "id": "fiBTQ6edP9gI"
      }
    },
    {
      "cell_type": "code",
      "source": [
        "# = Assigns value to a variable\n",
        "x = 10\n",
        "\n",
        "# += Adds and Assigns value\n",
        "x += 5\n",
        "print(x)\n",
        "\n",
        "# -+ Substracts and Assigns value\n",
        "x -= 5\n",
        "print(x)\n",
        "\n",
        "# *= Multiplies and Assigns value\n",
        "x *= 5\n",
        "print(x)\n",
        "\n",
        "# /= Divides and Assigns value\n",
        "x /= 5\n",
        "print(x)\n",
        "\n",
        "# //= Floors Division and Assigns value\n",
        "x //= 5\n",
        "print(x)\n",
        "\n",
        "# %= Modulus and Assigns value\n",
        "x %= 5\n",
        "print(x)\n",
        "\n",
        "# **= Exponentials and Assigns value\n",
        "x **= 5\n",
        "print(x)"
      ],
      "metadata": {
        "colab": {
          "base_uri": "https://localhost:8080/"
        },
        "id": "DDbkQSxOQAp3",
        "outputId": "455bfe15-ca9c-4557-a93d-0eeaf43b84b9"
      },
      "execution_count": null,
      "outputs": [
        {
          "output_type": "stream",
          "name": "stdout",
          "text": [
            "15\n",
            "10\n",
            "50\n",
            "10.0\n",
            "2.0\n",
            "2.0\n",
            "32.0\n"
          ]
        }
      ]
    },
    {
      "cell_type": "markdown",
      "source": [
        "#5. Identity Operators"
      ],
      "metadata": {
        "id": "UlZoaUTMRhkm"
      }
    },
    {
      "cell_type": "code",
      "source": [
        "a: list = [6, 7, 8]\n",
        "b: list = [6, 7, 8]\n",
        "c: list = a\n",
        "\n",
        "\n",
        "# is Operator: Returns True if both variables point to the same object\n",
        "# is not Operator:\tReturns True if both variables point to different objects\n",
        "\n",
        "print(a is c)\n",
        "print(a is b)\n",
        "\n",
        "print(a == b) #Same Value so True\n",
        "print(a is not b) #True both points diff: objects\n",
        "\n",
        "# The id() function in Python returns the memory address of an object.\n",
        "print(f\"{id(a)} | {id(b)} | {id(c)}\")"
      ],
      "metadata": {
        "colab": {
          "base_uri": "https://localhost:8080/"
        },
        "id": "xrBzWuWXRkCi",
        "outputId": "11b75b14-3680-4454-d0fa-b68041fd8530"
      },
      "execution_count": null,
      "outputs": [
        {
          "output_type": "stream",
          "name": "stdout",
          "text": [
            "True\n",
            "False\n",
            "True\n",
            "True\n",
            "132833171063296 | 132833170936256 | 132833171063296\n"
          ]
        }
      ]
    },
    {
      "cell_type": "markdown",
      "source": [
        "#6. Membership Operators\n",
        "Membership operators check if a value exists in a sequence (like a list, tuple, string, or dictionary)."
      ],
      "metadata": {
        "id": "HFUAnoYlqRbB"
      }
    },
    {
      "cell_type": "code",
      "source": [
        "# in:  Returns True if the value is found in the sequence\n",
        "# not in: Returns True if the value is not in the sequence\n",
        "\n",
        "# Using 'in'\n",
        "numbers = [1, 2, 3, 4, 5]\n",
        "print(3 in numbers)  # True\n",
        "\n",
        "# in checks if an element exists in a sequence.\n",
        "\n",
        "text = \"hello\"\n",
        "print(\"h\" in text)\n",
        "\n",
        "# not in checks if an element does NOT exist.\n",
        "data = {\"name\": \"Shariq\", \"age\": 20}\n",
        "print(\"name\" not in data) # False because name is present in sequence\n",
        "\n",
        "# membership operators in disc lists (Only checks keys, not values)."
      ],
      "metadata": {
        "colab": {
          "base_uri": "https://localhost:8080/"
        },
        "id": "J_AoboRFqT9l",
        "outputId": "de964817-9924-45a8-e21c-2e1d611ff56b"
      },
      "execution_count": 2,
      "outputs": [
        {
          "output_type": "stream",
          "name": "stdout",
          "text": [
            "True\n",
            "True\n",
            "False\n"
          ]
        }
      ]
    },
    {
      "cell_type": "markdown",
      "source": [
        "# Python Keywords\n",
        "Python keywords are reserved words that have special purpose and cannot be used as name of variables, functions or classes."
      ],
      "metadata": {
        "id": "7EG1ootgrmel"
      }
    },
    {
      "cell_type": "code",
      "source": [
        "import keyword\n",
        "\n",
        "# Line continuation (`\\`) allows printing a statement over multiple lines, improving code readability without breaking the string.\n",
        "print(\"The list of  \\\n",
        "keywords is : \")\n",
        "\n",
        "# printing all keywords at once using \"kwlist()\"\n",
        "print(keyword.kwlist)"
      ],
      "metadata": {
        "colab": {
          "base_uri": "https://localhost:8080/"
        },
        "id": "5h2ToZJur4q_",
        "outputId": "b22995c0-60f0-4fce-fe9b-2afe0883c4f6"
      },
      "execution_count": 7,
      "outputs": [
        {
          "output_type": "stream",
          "name": "stdout",
          "text": [
            "The list of  keywords is : \n",
            "['False', 'None', 'True', 'and', 'as', 'assert', 'async', 'await', 'break', 'class', 'continue', 'def', 'del', 'elif', 'else', 'except', 'finally', 'for', 'from', 'global', 'if', 'import', 'in', 'is', 'lambda', 'nonlocal', 'not', 'or', 'pass', 'raise', 'return', 'try', 'while', 'with', 'yield']\n"
          ]
        }
      ]
    },
    {
      "cell_type": "markdown",
      "source": [
        "# Python Variables\n",
        "Variables are names assigned to values to store them and use during program execution.\n",
        "1. Only letters, numbers and underscore(_).\n",
        "2. Can't Start with Number.\n",
        "3. Can't use reserved keywords like if, else, False\n",
        "4. Case Sensitive (myName and myname are different).\n",
        "\n",
        "## Variable Naming Convention\n",
        "\n",
        "1.   **snake_case** are used for\tVariables & functions. Ex:\tuser_name, total_price\n",
        "2.   **CamelCase** are used for\tClasses\tBankAccount, Ex: DataScienceModel\n",
        "3.   **UPPER_CASE** are used for\tConstants Ex:\tMAX_SPEED, PI\n",
        "4.   **_single_underscore** are used for\tPrivate variable (by convention)  Ex:\t_config\n",
        "5.   **__double_underscore** are used for\tName mangling (avoid external access) Ex:\t__password\n",
        "6. **__dunder__** are used for\tSpecial methods Ex:\t__init__, __str__\n",
        "\n",
        "\n"
      ],
      "metadata": {
        "id": "dxwzHQYjsg9n"
      }
    },
    {
      "cell_type": "markdown",
      "source": [
        "# Assigning Defferent Values"
      ],
      "metadata": {
        "id": "lCt_d4jLtb4x"
      }
    },
    {
      "cell_type": "code",
      "source": [
        "x, y, z = 1, 2.5, \"Python\"\n",
        "\n",
        "print(x, y, z)\n",
        "\n"
      ],
      "metadata": {
        "colab": {
          "base_uri": "https://localhost:8080/"
        },
        "id": "pghe8f-8u_NX",
        "outputId": "090130ea-60af-4d4d-ec9e-1f6c453b7326"
      },
      "execution_count": 10,
      "outputs": [
        {
          "output_type": "stream",
          "name": "stdout",
          "text": [
            "1 2.5 Python\n"
          ]
        }
      ]
    },
    {
      "cell_type": "code",
      "source": [
        "# x: int, y: float, z: str = 1, 2.5, \"Python\" # Using type hints while assigning mutiple variables simultaneously cause and error invalid syntax\n",
        "\n",
        "print(x, y, z)"
      ],
      "metadata": {
        "colab": {
          "base_uri": "https://localhost:8080/",
          "height": 106
        },
        "id": "c4b3S339vKm7",
        "outputId": "aabc8f97-51a2-4d58-aed4-c2862caf6236"
      },
      "execution_count": 11,
      "outputs": [
        {
          "output_type": "error",
          "ename": "SyntaxError",
          "evalue": "invalid syntax (<ipython-input-11-1b71593066e5>, line 1)",
          "traceback": [
            "\u001b[0;36m  File \u001b[0;32m\"<ipython-input-11-1b71593066e5>\"\u001b[0;36m, line \u001b[0;32m1\u001b[0m\n\u001b[0;31m    x: int, y: float, z: str = 1, 2.5, \"Python\" # Using type hints while assigning mutiple variables simultaneously cause and error invalid syntax\u001b[0m\n\u001b[0m          ^\u001b[0m\n\u001b[0;31mSyntaxError\u001b[0m\u001b[0;31m:\u001b[0m invalid syntax\n"
          ]
        }
      ]
    },
    {
      "cell_type": "markdown",
      "source": [
        "# Delete a Variable Using del Keyword"
      ],
      "metadata": {
        "id": "9oaEL7YEvSkp"
      }
    },
    {
      "cell_type": "code",
      "source": [
        "x = 10\n",
        "print(x)\n",
        "\n",
        "del x\n",
        "# print(x) will appear error becuase there is no variable as it is deleted."
      ],
      "metadata": {
        "colab": {
          "base_uri": "https://localhost:8080/"
        },
        "id": "a4gZXz6tvVk7",
        "outputId": "f878a7c7-8d0b-4784-a330-bb9e0735ffc9"
      },
      "execution_count": 14,
      "outputs": [
        {
          "output_type": "stream",
          "name": "stdout",
          "text": [
            "10\n"
          ]
        }
      ]
    }
  ]
}
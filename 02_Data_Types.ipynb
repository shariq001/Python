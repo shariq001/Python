{
  "nbformat": 4,
  "nbformat_minor": 0,
  "metadata": {
    "colab": {
      "provenance": [],
      "collapsed_sections": [
        "I4sJ4qRBPcLR"
      ],
      "authorship_tag": "ABX9TyOG4x46yLny0bOmAnmOEFN7",
      "include_colab_link": true
    },
    "kernelspec": {
      "name": "python3",
      "display_name": "Python 3"
    },
    "language_info": {
      "name": "python"
    }
  },
  "cells": [
    {
      "cell_type": "markdown",
      "metadata": {
        "id": "view-in-github",
        "colab_type": "text"
      },
      "source": [
        "<a href=\"https://colab.research.google.com/github/shariq001/Python/blob/main/02_Data_Types.ipynb\" target=\"_parent\"><img src=\"https://colab.research.google.com/assets/colab-badge.svg\" alt=\"Open In Colab\"/></a>"
      ]
    },
    {
      "cell_type": "markdown",
      "source": [
        "# Python Data Types"
      ],
      "metadata": {
        "id": "Dz68j9BwO5ok"
      }
    },
    {
      "cell_type": "markdown",
      "source": [
        "##1.  String Types"
      ],
      "metadata": {
        "id": "I4sJ4qRBPcLR"
      }
    },
    {
      "cell_type": "code",
      "source": [
        "name : str = 'Muhammad Shariq'\n",
        "print(type(name), \"name = \", name)"
      ],
      "metadata": {
        "colab": {
          "base_uri": "https://localhost:8080/"
        },
        "id": "zUf1zuzxPd3C",
        "outputId": "1b6c163d-bc37-4a39-d2da-7967e64d1abe"
      },
      "execution_count": 2,
      "outputs": [
        {
          "output_type": "stream",
          "name": "stdout",
          "text": [
            "<class 'str'> name =  Muhammad Shariq\n"
          ]
        }
      ]
    },
    {
      "cell_type": "markdown",
      "source": [
        "##2.  Numeric Types"
      ],
      "metadata": {
        "id": "sniVf4pBPGsQ"
      }
    },
    {
      "cell_type": "markdown",
      "source": [
        "###2.1 Integer"
      ],
      "metadata": {
        "id": "xdrkGuPdP3dj"
      }
    },
    {
      "cell_type": "code",
      "execution_count": 1,
      "metadata": {
        "colab": {
          "base_uri": "https://localhost:8080/"
        },
        "id": "vn2PO4ebOzQT",
        "outputId": "1da8b6fd-3384-4600-d1bd-49b48830727c"
      },
      "outputs": [
        {
          "output_type": "stream",
          "name": "stdout",
          "text": [
            "<class 'int'> num1 =  56\n"
          ]
        }
      ],
      "source": [
        "num1 : int = 56\n",
        "print(type(num1), \"num1 = \", num1)"
      ]
    },
    {
      "cell_type": "markdown",
      "source": [
        "###2.2 Floating Point"
      ],
      "metadata": {
        "id": "9SCziUbDPp22"
      }
    },
    {
      "cell_type": "code",
      "source": [
        "pi : float = 3.142\n",
        "# It is used to store decimal numbers.\n",
        "\n",
        "print(type(pi), \"pi = \", pi)"
      ],
      "metadata": {
        "colab": {
          "base_uri": "https://localhost:8080/"
        },
        "id": "hue5KKo-PtRO",
        "outputId": "dbbe38cd-f14b-4050-b3cf-216d0db75fa1"
      },
      "execution_count": 5,
      "outputs": [
        {
          "output_type": "stream",
          "name": "stdout",
          "text": [
            "<class 'float'> pi =  3.142\n"
          ]
        }
      ]
    },
    {
      "cell_type": "markdown",
      "source": [
        "###2.3 Complex"
      ],
      "metadata": {
        "id": "WVWLANwvRAJX"
      }
    },
    {
      "cell_type": "code",
      "source": [
        "comp_num : complex = 4 + 5j\n",
        "\n",
        "print(type(comp_num), \"Complex Num = \", comp_num)"
      ],
      "metadata": {
        "colab": {
          "base_uri": "https://localhost:8080/"
        },
        "id": "ksk3tPE6RCjK",
        "outputId": "303002ee-0777-4bb7-d63e-54be0c424677"
      },
      "execution_count": 8,
      "outputs": [
        {
          "output_type": "stream",
          "name": "stdout",
          "text": [
            "<class 'complex'> Complex Num =  (4+5j)\n"
          ]
        }
      ]
    },
    {
      "cell_type": "markdown",
      "source": [
        "##3. Boolean (bool)"
      ],
      "metadata": {
        "id": "I5IF_QOjRmTe"
      }
    },
    {
      "cell_type": "code",
      "source": [
        "is_mal : bool = True\n",
        "is_fem : bool = False\n",
        "\n",
        "print(type(is_mal), \"is_male = \", is_mal, type(is_fem), \"is_female = \", is_fem)"
      ],
      "metadata": {
        "colab": {
          "base_uri": "https://localhost:8080/"
        },
        "id": "DTLs_-7yRp6I",
        "outputId": "792ea74f-368a-49dc-8123-cb7b5ff42ac4"
      },
      "execution_count": 10,
      "outputs": [
        {
          "output_type": "stream",
          "name": "stdout",
          "text": [
            "<class 'bool'> is_male =  True <class 'bool'> is_female =  False\n"
          ]
        }
      ]
    },
    {
      "cell_type": "markdown",
      "source": [
        "##4. Sequence Types"
      ],
      "metadata": {
        "id": "o86rU-uVSJaB"
      }
    },
    {
      "cell_type": "markdown",
      "source": [
        "###4.1 String"
      ],
      "metadata": {
        "id": "aNfA0K_9TSYM"
      }
    },
    {
      "cell_type": "code",
      "source": [
        "text_double: str  = \"Hello, Double Quote String!\" # Strings with (\")\n",
        "text_single: str  = 'Hello, Single Quote String!' # Strings with (')\n",
        "text_multi: str   = '''Hello, Multi Line Single Quote String!''' # Multi-Line Strings (''' or \"\"\")\n",
        "text_multi_1: str = \"\"\"Hello, Multi Line Double Quote String!\"\"\" # Multi-Line Strings (''' or \"\"\")\n",
        "\n",
        "print(type(text_double), \" text_double   = \", text_double)\n",
        "print(type(text_single), \" text_single   = \", text_single)\n",
        "print(type(text_multi), \" text_multi    = \", text_multi)\n",
        "print(type(text_multi_1), \" text_multi_1  = \", text_multi_1)"
      ],
      "metadata": {
        "colab": {
          "base_uri": "https://localhost:8080/"
        },
        "id": "B_q6niiXSMXj",
        "outputId": "cff5b927-20f4-4e25-e4dd-82d2394906c8"
      },
      "execution_count": 13,
      "outputs": [
        {
          "output_type": "stream",
          "name": "stdout",
          "text": [
            "<class 'str'>  text_double   =  Hello, Double Quote String!\n",
            "<class 'str'>  text_single   =  Hello, Single Quote String!\n",
            "<class 'str'>  text_multi    =  Hello, Multi Line Single Quote String!\n",
            "<class 'str'>  text_multi_1  =  Hello, Multi Line Double Quote String!\n"
          ]
        }
      ]
    },
    {
      "cell_type": "markdown",
      "source": [
        "We use Double Quotes (\"\") When the string contains inside Single Quotes ('') and the multi line strings are also called Docstrings."
      ],
      "metadata": {
        "id": "bHNbzVloS4Hq"
      }
    },
    {
      "cell_type": "markdown",
      "source": [
        "###4.2 List"
      ],
      "metadata": {
        "id": "o29PHBtoTVfn"
      }
    },
    {
      "cell_type": "code",
      "source": [
        "list_1 : int = [18, \"Python\", 3.142, True]\n",
        "\n",
        "#There is stil no type hinting but you should mention appropriate types!\n",
        "\n",
        "list_2 : list = [18, \"Hello Python\", 3*10^8, False]\n",
        "\n",
        "print(type(list_1), \"List 1: = \", list_1) # Type will be list as no type hinting.\n",
        "print(type(list_2), \"List 2: = \", list_2) # Type will be list as defined above"
      ],
      "metadata": {
        "colab": {
          "base_uri": "https://localhost:8080/"
        },
        "id": "eC1cNUqmTXwp",
        "outputId": "0903b9d4-264d-49ab-d879-ab9698c1d255"
      },
      "execution_count": 15,
      "outputs": [
        {
          "output_type": "stream",
          "name": "stdout",
          "text": [
            "<class 'list'> List 1: =  [18, 'Python', 3.142, True]\n",
            "<class 'list'> List 2: =  [18, 'Hello Python', 22, False]\n"
          ]
        }
      ]
    },
    {
      "cell_type": "markdown",
      "source": [
        "###4.3 Tuple\n",
        "An ordered Collection of Items can be of different types!"
      ],
      "metadata": {
        "id": "ZrLOCXMKUWkr"
      }
    },
    {
      "cell_type": "code",
      "source": [
        "tuple_1 : tuple = (1024, \"Muhammad\", 3.142, False, .3, 3+2j)\n",
        "\n",
        "print(type(tuple_1), \"Tuple 1 = \", tuple_1)\n",
        "\n",
        "# Printing Specific Tuple Item (starts with zero)\n",
        "print(tuple_1[0])\n",
        "print(tuple_1[5])"
      ],
      "metadata": {
        "colab": {
          "base_uri": "https://localhost:8080/"
        },
        "id": "14gVd_niUZy2",
        "outputId": "9dff1f5c-b9c6-4900-8432-aa306e946776"
      },
      "execution_count": 18,
      "outputs": [
        {
          "output_type": "stream",
          "name": "stdout",
          "text": [
            "<class 'tuple'> Tuple 1 =  (1024, 'Muhammad', 3.142, False, 0.3, (3+2j))\n",
            "1024\n",
            "(3+2j)\n"
          ]
        }
      ]
    },
    {
      "cell_type": "markdown",
      "source": [
        "###4.4 Range (range)"
      ],
      "metadata": {
        "id": "nQC1I5NhVX6L"
      }
    },
    {
      "cell_type": "code",
      "source": [
        "range_1 : range = range(0, 10, 4)\n",
        "\n",
        "# range defines the loop, the first value is where to start, the second is where\n",
        "# to stop, and the third one is where to step (means skipping that value).\n",
        "# It is commonly used in loops\n",
        "\n",
        "print(type(range_1), \"Range 1 = \", range_1)\n",
        "\n",
        "# Printing the Skipped or the Step (The third One).\n",
        "\n",
        "print(range_1.step)\n",
        "\n",
        "# Using in for loop\n",
        "\n",
        "print(\"Start Stop and Step (1, 10, 2)\")\n",
        "\n",
        "for i in range(1, 10, 2):\n",
        "  print(i)\n",
        "\n",
        "  #This will skip all the divisibles of two\n",
        "\n",
        "print(\"Start and Stop Only (1 to 6)\")\n",
        "\n",
        "# You can also just set the Start and Stop and Skip the Third One\n",
        "for i in range(1, 6):\n",
        "  print(i)"
      ],
      "metadata": {
        "colab": {
          "base_uri": "https://localhost:8080/"
        },
        "id": "Df3jaUPXVbe4",
        "outputId": "a542d5a5-ff4b-4e4d-81d2-4110f654586b"
      },
      "execution_count": 31,
      "outputs": [
        {
          "output_type": "stream",
          "name": "stdout",
          "text": [
            "<class 'range'> Range 1 =  range(0, 10, 4)\n",
            "4\n",
            "Start Stop and Step (1, 10, 2)\n",
            "1\n",
            "3\n",
            "5\n",
            "7\n",
            "9\n",
            "Start and Stop Only (1 to 6)\n",
            "1\n",
            "2\n",
            "3\n",
            "4\n",
            "5\n"
          ]
        }
      ]
    },
    {
      "cell_type": "markdown",
      "source": [
        "##5. Set Types\n",
        "unordered collections with unique elements."
      ],
      "metadata": {
        "id": "JLO6s8iyXP6i"
      }
    },
    {
      "cell_type": "markdown",
      "source": [
        "###5.1 Set"
      ],
      "metadata": {
        "id": "vuJUgwtxX3RQ"
      }
    },
    {
      "cell_type": "code",
      "source": [
        "set_1 : set = {1, 5, 9, 13, 17}\n",
        "print(type(set_1), \"Set 1 = \", set_1)"
      ],
      "metadata": {
        "colab": {
          "base_uri": "https://localhost:8080/"
        },
        "id": "uwU4hotlXWqb",
        "outputId": "b67cf632-ea03-4131-f96f-0c99d1f98473"
      },
      "execution_count": 32,
      "outputs": [
        {
          "output_type": "stream",
          "name": "stdout",
          "text": [
            "<class 'set'> Set 1 =  {1, 17, 5, 9, 13}\n"
          ]
        }
      ]
    },
    {
      "cell_type": "markdown",
      "source": [
        "###5.2 Frozen Set\n",
        "A frozenset is an immutable version of a set in Python. Once created, its elements cannot be changed, added, or removed.\n",
        "\n",
        "A frozenset (like a normal set) is unordered, meaning its elements do not have a fixed order. When you print a frozenset, Python may display the elements in any order, depending on how they are stored internally."
      ],
      "metadata": {
        "id": "unHLh4R2X6gx"
      }
    },
    {
      "cell_type": "code",
      "source": [
        "frozen_1 = frozenset([1, 9, 5, 13])\n",
        "print(type(frozen_1), \"Frozen Set = \", frozen_1)"
      ],
      "metadata": {
        "colab": {
          "base_uri": "https://localhost:8080/"
        },
        "id": "Zqq1vPOcX9aQ",
        "outputId": "dd0452a7-678f-41cf-a07d-a880ee941351"
      },
      "execution_count": 34,
      "outputs": [
        {
          "output_type": "stream",
          "name": "stdout",
          "text": [
            "<class 'frozenset'> Frozen Set =  frozenset({1, 13, 5, 9})\n"
          ]
        }
      ]
    },
    {
      "cell_type": "markdown",
      "source": [
        "##6. Mapping Type\n",
        "dictionary Stores the Key Value Pairs.\n",
        "\n",
        "Key: value"
      ],
      "metadata": {
        "id": "bq4UZi-EYqwF"
      }
    },
    {
      "cell_type": "code",
      "source": [
        "dict_1 : dict = {\"Name\": \"Muhammad Shariq\", \"Age\": 18, \"Language\": \"Python\"}\n",
        "print(type(dict_1), \"Dictionary 1 = \", dict_1)"
      ],
      "metadata": {
        "colab": {
          "base_uri": "https://localhost:8080/"
        },
        "id": "7_mMJHSMY0CE",
        "outputId": "397d181f-055a-4766-82bd-90e20c4c7d07"
      },
      "execution_count": 35,
      "outputs": [
        {
          "output_type": "stream",
          "name": "stdout",
          "text": [
            "<class 'dict'> Dictionary 1 =  {'Name': 'Muhammad Shariq', 'Age': 18, 'Language': 'Python'}\n"
          ]
        }
      ]
    },
    {
      "cell_type": "markdown",
      "source": [
        "##7. Binary Types\n",
        "Binary types in Python are used to handle binary data, such as images, files, or network data. Python provides three built-in binary types:"
      ],
      "metadata": {
        "id": "sYlCCIOjZbiD"
      }
    },
    {
      "cell_type": "markdown",
      "source": [
        "###7.1 Bytes\n",
        "Represents a sequence of bytes (similar to a string but in binary form).\n",
        "Cannot be modified after creation.\n",
        "Created using b\"\" notation."
      ],
      "metadata": {
        "id": "ensERbVpZgzS"
      }
    },
    {
      "cell_type": "code",
      "source": [
        "data = b\"hello\"\n",
        "print(data)\n",
        "print(type(data))"
      ],
      "metadata": {
        "colab": {
          "base_uri": "https://localhost:8080/"
        },
        "id": "FsvbUNf6ZfLo",
        "outputId": "66368a62-8a88-4b79-efb9-7287c9401575"
      },
      "execution_count": 36,
      "outputs": [
        {
          "output_type": "stream",
          "name": "stdout",
          "text": [
            "b'hello'\n",
            "<class 'bytes'>\n"
          ]
        }
      ]
    },
    {
      "cell_type": "markdown",
      "source": [
        "###7.2 ByteArray (bytearray)\n",
        "Similar to bytes but can be modified.\n",
        "Useful when you need to edit binary data."
      ],
      "metadata": {
        "id": "2sqDdyZXZyej"
      }
    },
    {
      "cell_type": "code",
      "source": [
        "data = bytearray(b\"hello\")\n",
        "data[0] = 72\n",
        "\n",
        "# Changing 'h' to 'H'. 72 represents the ASCII value of 'H'.\n",
        "#The original b\"hello\" has 'h' (which is ASCII 104).\n",
        "#When we assign 72 to data[0], it changes 'h' to 'H' (ASCII 72).\n",
        "\n",
        "print(type(data), data)  # Output: bytearray(b'Hello')\n",
        "\n",
        "#You can check the ASCII value using:\n",
        "print(ord('H'))  # Output: 72"
      ],
      "metadata": {
        "colab": {
          "base_uri": "https://localhost:8080/"
        },
        "id": "o6hByzzDZ5Gt",
        "outputId": "af49ab7f-fc57-4217-835a-be79308d9115"
      },
      "execution_count": 40,
      "outputs": [
        {
          "output_type": "stream",
          "name": "stdout",
          "text": [
            "<class 'bytearray'> bytearray(b'Hello')\n",
            "72\n"
          ]
        }
      ]
    },
    {
      "cell_type": "markdown",
      "source": [
        "###7.3 Memmory View (memoryview)\n",
        "Provides a way to access binary data without copying it.\n",
        "Useful for working with large datasets.\n",
        "\n",
        "These types are mainly used for file handling, networking, and low-level data manipulation."
      ],
      "metadata": {
        "id": "yfPfvEmVahEs"
      }
    },
    {
      "cell_type": "code",
      "source": [
        "data = memoryview(b\"Mission Successfull\")\n",
        "\n",
        "print(type(data), \"data = \", data)\n",
        "\n",
        "#Printing bytes with memoryview\n",
        "\n",
        "print(bytes(data[0:5]))\n",
        "#This will print words form 0 to 5 index include 5th index\n",
        "\n",
        "# To show Memory Address\n",
        "print(\"Memmory Address\")\n",
        "\n",
        "print( data[6: 10] )"
      ],
      "metadata": {
        "colab": {
          "base_uri": "https://localhost:8080/"
        },
        "id": "WQsKnuGOanAA",
        "outputId": "805066cf-ad7a-41d2-d25c-215d8a856768"
      },
      "execution_count": 43,
      "outputs": [
        {
          "output_type": "stream",
          "name": "stdout",
          "text": [
            "<class 'memoryview'> data =  <memory at 0x790d10b947c0>\n",
            "b'Missi'\n",
            "Memmory Address\n",
            "<memory at 0x790d10b94b80>\n"
          ]
        }
      ]
    }
  ]
}
{
  "nbformat": 4,
  "nbformat_minor": 0,
  "metadata": {
    "colab": {
      "provenance": [],
      "authorship_tag": "ABX9TyMyi9//O4gDkujNX94//ZyS",
      "include_colab_link": true
    },
    "kernelspec": {
      "name": "python3",
      "display_name": "Python 3"
    },
    "language_info": {
      "name": "python"
    }
  },
  "cells": [
    {
      "cell_type": "markdown",
      "metadata": {
        "id": "view-in-github",
        "colab_type": "text"
      },
      "source": [
        "<a href=\"https://colab.research.google.com/github/shariq001/Python/blob/main/01_IntroductionToPython.ipynb\" target=\"_parent\"><img src=\"https://colab.research.google.com/assets/colab-badge.svg\" alt=\"Open In Colab\"/></a>"
      ]
    },
    {
      "cell_type": "markdown",
      "source": [
        "# Python: The Versatile and Powerful Programming Language"
      ],
      "metadata": {
        "id": "c6DOINrYIiWK"
      }
    },
    {
      "cell_type": "markdown",
      "source": [
        "## Python\n",
        "is a **High Level** (closer to human language), **Interpreted** (code is executed line by line), **Versatile** (ability to be used in different ways) and is a **Simple** programming language. It is created by *Guido van Rossum*. It supports multiple programming paradigms (different styles or approaches to write code) like:\n",
        "1.   **Procedural Programming:** Step by step instructions.\n",
        "2.   **Object Oriented Programming:** Organizes code into objects.\n",
        "3. **Function Programming:** Focuses on writing pure functions.\n",
        "\n",
        "**Pythons** extensive libraries make it usable for various programming purposes like: ***Web Development, Data Analysis, AI, Automation,*** and more. It has a beginner friendly syntax and is one of the most popular language worldwide.\n",
        "\n"
      ],
      "metadata": {
        "id": "Nm_1jnMZIt1N"
      }
    },
    {
      "cell_type": "markdown",
      "source": [
        "# Working Principal of Python or Code Execution."
      ],
      "metadata": {
        "id": "JDRfcB4VLJqe"
      }
    },
    {
      "cell_type": "markdown",
      "source": [
        "1. **Source Code (.py file)**: You write Python code in a .py file.\n",
        "\n",
        "\n",
        "```\n",
        "print(\"Hello World!\")\n",
        "```\n",
        "2. **Compilation (Source Code -> Bytecode):** Python compiles the source code into bytecode. This bytecode is stored in a .pyc file inside the __pycache__ folder. The compilation happens automatically when you run a Python script.\n",
        "\n",
        "3. **Interpretation (Bytecode -> Machine Code):** The Python interpreter (PVM – Python Virtual Machine) reads and executes the bytecode line by line. The interpreter translates the bytecode into machine code, which the CPU understands.\n",
        "\n",
        "4. **Execution & Output:** The machine code runs on the system, producing the f inal output.\n",
        "\n",
        "\n",
        "```\n",
        "Hello World!\n",
        "```\n",
        "\n",
        "\n"
      ],
      "metadata": {
        "id": "PC1QlWZ7LUGm"
      }
    }
  ]
}